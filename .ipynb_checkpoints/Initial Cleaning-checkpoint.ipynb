{
 "cells": [
  {
   "cell_type": "code",
   "execution_count": 19,
   "metadata": {},
   "outputs": [],
   "source": [
    "import pandas as pd\n",
    "import numpy as np\n",
    "import seaborn as sns\n",
    "\n",
    "from matplotlib import pyplot as plt"
   ]
  },
  {
   "cell_type": "code",
   "execution_count": 20,
   "metadata": {},
   "outputs": [],
   "source": [
    "df = pd.read_csv('Judge_Data.csv')"
   ]
  },
  {
   "cell_type": "code",
   "execution_count": 21,
   "metadata": {},
   "outputs": [
    {
     "data": {
      "text/plain": [
       "(7495, 89)"
      ]
     },
     "execution_count": 21,
     "metadata": {},
     "output_type": "execute_result"
    }
   ],
   "source": [
    "df.shape"
   ]
  },
  {
   "cell_type": "code",
   "execution_count": 22,
   "metadata": {
    "scrolled": false
   },
   "outputs": [
    {
     "data": {
      "text/html": [
       "<div>\n",
       "<style scoped>\n",
       "    .dataframe tbody tr th:only-of-type {\n",
       "        vertical-align: middle;\n",
       "    }\n",
       "\n",
       "    .dataframe tbody tr th {\n",
       "        vertical-align: top;\n",
       "    }\n",
       "\n",
       "    .dataframe thead th {\n",
       "        text-align: right;\n",
       "    }\n",
       "</style>\n",
       "<table border=\"1\" class=\"dataframe\">\n",
       "  <thead>\n",
       "    <tr style=\"text-align: right;\">\n",
       "      <th></th>\n",
       "      <th>pitch_type</th>\n",
       "      <th>game_date</th>\n",
       "      <th>release_speed</th>\n",
       "      <th>release_pos_x</th>\n",
       "      <th>release_pos_z</th>\n",
       "      <th>player_name</th>\n",
       "      <th>batter</th>\n",
       "      <th>pitcher</th>\n",
       "      <th>events</th>\n",
       "      <th>description</th>\n",
       "      <th>...</th>\n",
       "      <th>home_score</th>\n",
       "      <th>away_score</th>\n",
       "      <th>bat_score</th>\n",
       "      <th>fld_score</th>\n",
       "      <th>post_away_score</th>\n",
       "      <th>post_home_score</th>\n",
       "      <th>post_bat_score</th>\n",
       "      <th>post_fld_score</th>\n",
       "      <th>if_fielding_alignment</th>\n",
       "      <th>of_fielding_alignment</th>\n",
       "    </tr>\n",
       "  </thead>\n",
       "  <tbody>\n",
       "    <tr>\n",
       "      <th>0</th>\n",
       "      <td>FF</td>\n",
       "      <td>2020-07-29</td>\n",
       "      <td>92.6</td>\n",
       "      <td>-1.854044</td>\n",
       "      <td>6.535654</td>\n",
       "      <td>Aaron Judge</td>\n",
       "      <td>592450</td>\n",
       "      <td>606944</td>\n",
       "      <td>hit_by_pitch</td>\n",
       "      <td>hit_by_pitch</td>\n",
       "      <td>...</td>\n",
       "      <td>3</td>\n",
       "      <td>7</td>\n",
       "      <td>7</td>\n",
       "      <td>3</td>\n",
       "      <td>7</td>\n",
       "      <td>3</td>\n",
       "      <td>7</td>\n",
       "      <td>3</td>\n",
       "      <td>Infield shift</td>\n",
       "      <td>Standard</td>\n",
       "    </tr>\n",
       "    <tr>\n",
       "      <th>1</th>\n",
       "      <td>FF</td>\n",
       "      <td>2020-07-29</td>\n",
       "      <td>96.6</td>\n",
       "      <td>-1.853795</td>\n",
       "      <td>6.306883</td>\n",
       "      <td>Aaron Judge</td>\n",
       "      <td>592450</td>\n",
       "      <td>606944</td>\n",
       "      <td>NaN</td>\n",
       "      <td>called_strike</td>\n",
       "      <td>...</td>\n",
       "      <td>3</td>\n",
       "      <td>7</td>\n",
       "      <td>7</td>\n",
       "      <td>3</td>\n",
       "      <td>7</td>\n",
       "      <td>3</td>\n",
       "      <td>7</td>\n",
       "      <td>3</td>\n",
       "      <td>Infield shift</td>\n",
       "      <td>Standard</td>\n",
       "    </tr>\n",
       "    <tr>\n",
       "      <th>2</th>\n",
       "      <td>FF</td>\n",
       "      <td>2020-07-29</td>\n",
       "      <td>93.9</td>\n",
       "      <td>-1.665619</td>\n",
       "      <td>5.838457</td>\n",
       "      <td>Aaron Judge</td>\n",
       "      <td>592450</td>\n",
       "      <td>623465</td>\n",
       "      <td>single</td>\n",
       "      <td>hit_into_play_score</td>\n",
       "      <td>...</td>\n",
       "      <td>1</td>\n",
       "      <td>6</td>\n",
       "      <td>6</td>\n",
       "      <td>1</td>\n",
       "      <td>6</td>\n",
       "      <td>1</td>\n",
       "      <td>6</td>\n",
       "      <td>1</td>\n",
       "      <td>Infield shift</td>\n",
       "      <td>Standard</td>\n",
       "    </tr>\n",
       "    <tr>\n",
       "      <th>3</th>\n",
       "      <td>FF</td>\n",
       "      <td>2020-07-29</td>\n",
       "      <td>94.2</td>\n",
       "      <td>-1.814294</td>\n",
       "      <td>5.811061</td>\n",
       "      <td>Aaron Judge</td>\n",
       "      <td>592450</td>\n",
       "      <td>623465</td>\n",
       "      <td>NaN</td>\n",
       "      <td>ball</td>\n",
       "      <td>...</td>\n",
       "      <td>1</td>\n",
       "      <td>6</td>\n",
       "      <td>6</td>\n",
       "      <td>1</td>\n",
       "      <td>6</td>\n",
       "      <td>1</td>\n",
       "      <td>6</td>\n",
       "      <td>1</td>\n",
       "      <td>Infield shift</td>\n",
       "      <td>Standard</td>\n",
       "    </tr>\n",
       "    <tr>\n",
       "      <th>4</th>\n",
       "      <td>CU</td>\n",
       "      <td>2020-07-29</td>\n",
       "      <td>77.6</td>\n",
       "      <td>-1.754522</td>\n",
       "      <td>5.557324</td>\n",
       "      <td>Aaron Judge</td>\n",
       "      <td>592450</td>\n",
       "      <td>592879</td>\n",
       "      <td>strikeout</td>\n",
       "      <td>swinging_strike</td>\n",
       "      <td>...</td>\n",
       "      <td>1</td>\n",
       "      <td>5</td>\n",
       "      <td>5</td>\n",
       "      <td>1</td>\n",
       "      <td>5</td>\n",
       "      <td>1</td>\n",
       "      <td>5</td>\n",
       "      <td>1</td>\n",
       "      <td>Infield shift</td>\n",
       "      <td>Standard</td>\n",
       "    </tr>\n",
       "  </tbody>\n",
       "</table>\n",
       "<p>5 rows × 89 columns</p>\n",
       "</div>"
      ],
      "text/plain": [
       "  pitch_type   game_date  release_speed  release_pos_x  release_pos_z  \\\n",
       "0         FF  2020-07-29           92.6      -1.854044       6.535654   \n",
       "1         FF  2020-07-29           96.6      -1.853795       6.306883   \n",
       "2         FF  2020-07-29           93.9      -1.665619       5.838457   \n",
       "3         FF  2020-07-29           94.2      -1.814294       5.811061   \n",
       "4         CU  2020-07-29           77.6      -1.754522       5.557324   \n",
       "\n",
       "   player_name  batter  pitcher        events          description  ...  \\\n",
       "0  Aaron Judge  592450   606944  hit_by_pitch         hit_by_pitch  ...   \n",
       "1  Aaron Judge  592450   606944           NaN        called_strike  ...   \n",
       "2  Aaron Judge  592450   623465        single  hit_into_play_score  ...   \n",
       "3  Aaron Judge  592450   623465           NaN                 ball  ...   \n",
       "4  Aaron Judge  592450   592879     strikeout      swinging_strike  ...   \n",
       "\n",
       "   home_score  away_score  bat_score  fld_score  post_away_score  \\\n",
       "0           3           7          7          3                7   \n",
       "1           3           7          7          3                7   \n",
       "2           1           6          6          1                6   \n",
       "3           1           6          6          1                6   \n",
       "4           1           5          5          1                5   \n",
       "\n",
       "  post_home_score post_bat_score post_fld_score if_fielding_alignment  \\\n",
       "0               3              7              3         Infield shift   \n",
       "1               3              7              3         Infield shift   \n",
       "2               1              6              1         Infield shift   \n",
       "3               1              6              1         Infield shift   \n",
       "4               1              5              1         Infield shift   \n",
       "\n",
       "  of_fielding_alignment  \n",
       "0              Standard  \n",
       "1              Standard  \n",
       "2              Standard  \n",
       "3              Standard  \n",
       "4              Standard  \n",
       "\n",
       "[5 rows x 89 columns]"
      ]
     },
     "execution_count": 22,
     "metadata": {},
     "output_type": "execute_result"
    }
   ],
   "source": [
    "df.head()"
   ]
  },
  {
   "cell_type": "code",
   "execution_count": 23,
   "metadata": {},
   "outputs": [
    {
     "data": {
      "text/plain": [
       "Index(['pitch_type', 'game_date', 'release_speed', 'release_pos_x',\n",
       "       'release_pos_z', 'player_name', 'batter', 'pitcher', 'events',\n",
       "       'description', 'spin_dir', 'spin_rate_deprecated',\n",
       "       'break_angle_deprecated', 'break_length_deprecated', 'zone', 'des',\n",
       "       'game_type', 'stand', 'p_throws', 'home_team', 'away_team', 'type',\n",
       "       'hit_location', 'bb_type', 'balls', 'strikes', 'game_year', 'pfx_x',\n",
       "       'pfx_z', 'plate_x', 'plate_z', 'on_3b', 'on_2b', 'on_1b',\n",
       "       'outs_when_up', 'inning', 'inning_topbot', 'hc_x', 'hc_y',\n",
       "       'tfs_deprecated', 'tfs_zulu_deprecated', 'fielder_2', 'umpire', 'sv_id',\n",
       "       'vx0', 'vy0', 'vz0', 'ax', 'ay', 'az', 'sz_top', 'sz_bot',\n",
       "       'hit_distance_sc', 'launch_speed', 'launch_angle', 'effective_speed',\n",
       "       'release_spin_rate', 'release_extension', 'game_pk', 'pitcher.1',\n",
       "       'fielder_2.1', 'fielder_3', 'fielder_4', 'fielder_5', 'fielder_6',\n",
       "       'fielder_7', 'fielder_8', 'fielder_9', 'release_pos_y',\n",
       "       'estimated_ba_using_speedangle', 'estimated_woba_using_speedangle',\n",
       "       'woba_value', 'woba_denom', 'babip_value', 'iso_value',\n",
       "       'launch_speed_angle', 'at_bat_number', 'pitch_number', 'pitch_name',\n",
       "       'home_score', 'away_score', 'bat_score', 'fld_score', 'post_away_score',\n",
       "       'post_home_score', 'post_bat_score', 'post_fld_score',\n",
       "       'if_fielding_alignment', 'of_fielding_alignment'],\n",
       "      dtype='object')"
      ]
     },
     "execution_count": 23,
     "metadata": {},
     "output_type": "execute_result"
    }
   ],
   "source": [
    "df.columns"
   ]
  },
  {
   "cell_type": "code",
   "execution_count": 24,
   "metadata": {},
   "outputs": [],
   "source": [
    "df = df[df.pitch_type.notna()]"
   ]
  },
  {
   "cell_type": "code",
   "execution_count": 25,
   "metadata": {},
   "outputs": [
    {
     "data": {
      "text/plain": [
       "(7444, 89)"
      ]
     },
     "execution_count": 25,
     "metadata": {},
     "output_type": "execute_result"
    }
   ],
   "source": [
    "df.shape"
   ]
  },
  {
   "cell_type": "code",
   "execution_count": 26,
   "metadata": {},
   "outputs": [],
   "source": [
    "df = df.drop(labels=['spin_dir','spin_rate_deprecated','break_angle_deprecated','break_length_deprecated','tfs_deprecated','tfs_zulu_deprecated','umpire'],axis=1)"
   ]
  },
  {
   "cell_type": "code",
   "execution_count": 27,
   "metadata": {},
   "outputs": [],
   "source": [
    "df.to_csv('cleaned_data.csv')"
   ]
  },
  {
   "cell_type": "code",
   "execution_count": null,
   "metadata": {},
   "outputs": [],
   "source": []
  }
 ],
 "metadata": {
  "kernelspec": {
   "display_name": "Python 3",
   "language": "python",
   "name": "python3"
  },
  "language_info": {
   "codemirror_mode": {
    "name": "ipython",
    "version": 3
   },
   "file_extension": ".py",
   "mimetype": "text/x-python",
   "name": "python",
   "nbconvert_exporter": "python",
   "pygments_lexer": "ipython3",
   "version": "3.8.1"
  }
 },
 "nbformat": 4,
 "nbformat_minor": 4
}
