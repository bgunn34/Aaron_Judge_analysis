{
 "cells": [
  {
   "cell_type": "code",
   "execution_count": 4,
   "metadata": {},
   "outputs": [],
   "source": [
    "import pandas as pd\n",
    "import numpy as np\n",
    "import matplotlib.pyplot as plt\n",
    "import seaborn as sns\n",
    "\n",
    "pd.options.display.max_rows = 1000"
   ]
  },
  {
   "cell_type": "code",
   "execution_count": 5,
   "metadata": {},
   "outputs": [],
   "source": [
    "df = pd.read_csv('cleaned_data.csv')"
   ]
  },
  {
   "cell_type": "code",
   "execution_count": 8,
   "metadata": {},
   "outputs": [],
   "source": [
    "df = df.drop(labels='Unnamed: 0',axis=1)"
   ]
  },
  {
   "cell_type": "code",
   "execution_count": 24,
   "metadata": {},
   "outputs": [
    {
     "data": {
      "text/plain": [
       "(7444, 83)"
      ]
     },
     "execution_count": 24,
     "metadata": {},
     "output_type": "execute_result"
    }
   ],
   "source": [
    "df.shape"
   ]
  },
  {
   "cell_type": "code",
   "execution_count": 9,
   "metadata": {
    "scrolled": false
   },
   "outputs": [
    {
     "data": {
      "text/plain": [
       "pitch_type                          object\n",
       "game_date                           object\n",
       "release_speed                      float64\n",
       "release_pos_x                      float64\n",
       "release_pos_z                      float64\n",
       "player_name                         object\n",
       "batter                               int64\n",
       "pitcher                              int64\n",
       "events                              object\n",
       "description                         object\n",
       "zone                               float64\n",
       "des                                 object\n",
       "game_type                           object\n",
       "stand                               object\n",
       "p_throws                            object\n",
       "home_team                           object\n",
       "away_team                           object\n",
       "type                                object\n",
       "hit_location                       float64\n",
       "bb_type                             object\n",
       "balls                                int64\n",
       "strikes                              int64\n",
       "game_year                            int64\n",
       "pfx_x                              float64\n",
       "pfx_z                              float64\n",
       "plate_x                            float64\n",
       "plate_z                            float64\n",
       "on_3b                              float64\n",
       "on_2b                              float64\n",
       "on_1b                              float64\n",
       "outs_when_up                         int64\n",
       "inning                               int64\n",
       "inning_topbot                       object\n",
       "hc_x                               float64\n",
       "hc_y                               float64\n",
       "fielder_2                          float64\n",
       "sv_id                               object\n",
       "vx0                                float64\n",
       "vy0                                float64\n",
       "vz0                                float64\n",
       "ax                                 float64\n",
       "ay                                 float64\n",
       "az                                 float64\n",
       "sz_top                             float64\n",
       "sz_bot                             float64\n",
       "hit_distance_sc                    float64\n",
       "launch_speed                       float64\n",
       "launch_angle                       float64\n",
       "effective_speed                    float64\n",
       "release_spin_rate                  float64\n",
       "release_extension                  float64\n",
       "game_pk                              int64\n",
       "pitcher.1                            int64\n",
       "fielder_2.1                        float64\n",
       "fielder_3                          float64\n",
       "fielder_4                          float64\n",
       "fielder_5                          float64\n",
       "fielder_6                          float64\n",
       "fielder_7                          float64\n",
       "fielder_8                          float64\n",
       "fielder_9                          float64\n",
       "release_pos_y                      float64\n",
       "estimated_ba_using_speedangle      float64\n",
       "estimated_woba_using_speedangle    float64\n",
       "woba_value                         float64\n",
       "woba_denom                         float64\n",
       "babip_value                        float64\n",
       "iso_value                          float64\n",
       "launch_speed_angle                 float64\n",
       "at_bat_number                        int64\n",
       "pitch_number                         int64\n",
       "pitch_name                          object\n",
       "home_score                           int64\n",
       "away_score                           int64\n",
       "bat_score                            int64\n",
       "fld_score                            int64\n",
       "post_away_score                      int64\n",
       "post_home_score                      int64\n",
       "post_bat_score                       int64\n",
       "post_fld_score                       int64\n",
       "if_fielding_alignment               object\n",
       "of_fielding_alignment               object\n",
       "dtype: object"
      ]
     },
     "execution_count": 9,
     "metadata": {},
     "output_type": "execute_result"
    }
   ],
   "source": [
    "df.dtypes"
   ]
  },
  {
   "cell_type": "markdown",
   "metadata": {},
   "source": [
    "### What kind of pitches does Aaron Judge hit homeruns on?"
   ]
  },
  {
   "cell_type": "code",
   "execution_count": 10,
   "metadata": {},
   "outputs": [
    {
     "data": {
      "text/plain": [
       "strikeout                    546\n",
       "field_out                    405\n",
       "walk                         254\n",
       "single                       207\n",
       "home_run                     110\n",
       "double                        67\n",
       "grounded_into_double_play     39\n",
       "force_out                     23\n",
       "field_error                   16\n",
       "hit_by_pitch                  14\n",
       "sac_fly                       11\n",
       "fielders_choice_out            6\n",
       "triple                         4\n",
       "interf_def                     2\n",
       "double_play                    2\n",
       "caught_stealing_home           1\n",
       "strikeout_double_play          1\n",
       "other_out                      1\n",
       "Name: events, dtype: int64"
      ]
     },
     "execution_count": 10,
     "metadata": {},
     "output_type": "execute_result"
    }
   ],
   "source": [
    "df.events.value_counts()"
   ]
  },
  {
   "cell_type": "code",
   "execution_count": 11,
   "metadata": {},
   "outputs": [],
   "source": [
    "hr = df.loc[df.events == 'home_run']"
   ]
  },
  {
   "cell_type": "code",
   "execution_count": 15,
   "metadata": {
    "scrolled": true
   },
   "outputs": [
    {
     "data": {
      "text/html": [
       "<div>\n",
       "<style scoped>\n",
       "    .dataframe tbody tr th:only-of-type {\n",
       "        vertical-align: middle;\n",
       "    }\n",
       "\n",
       "    .dataframe tbody tr th {\n",
       "        vertical-align: top;\n",
       "    }\n",
       "\n",
       "    .dataframe thead th {\n",
       "        text-align: right;\n",
       "    }\n",
       "</style>\n",
       "<table border=\"1\" class=\"dataframe\">\n",
       "  <thead>\n",
       "    <tr style=\"text-align: right;\">\n",
       "      <th></th>\n",
       "      <th>events</th>\n",
       "    </tr>\n",
       "    <tr>\n",
       "      <th>pitch_type</th>\n",
       "      <th></th>\n",
       "    </tr>\n",
       "  </thead>\n",
       "  <tbody>\n",
       "    <tr>\n",
       "      <th>FF</th>\n",
       "      <td>52</td>\n",
       "    </tr>\n",
       "    <tr>\n",
       "      <th>FT</th>\n",
       "      <td>17</td>\n",
       "    </tr>\n",
       "    <tr>\n",
       "      <th>SL</th>\n",
       "      <td>14</td>\n",
       "    </tr>\n",
       "    <tr>\n",
       "      <th>CH</th>\n",
       "      <td>10</td>\n",
       "    </tr>\n",
       "    <tr>\n",
       "      <th>CU</th>\n",
       "      <td>6</td>\n",
       "    </tr>\n",
       "    <tr>\n",
       "      <th>FC</th>\n",
       "      <td>4</td>\n",
       "    </tr>\n",
       "    <tr>\n",
       "      <th>SI</th>\n",
       "      <td>4</td>\n",
       "    </tr>\n",
       "    <tr>\n",
       "      <th>KC</th>\n",
       "      <td>2</td>\n",
       "    </tr>\n",
       "    <tr>\n",
       "      <th>FS</th>\n",
       "      <td>1</td>\n",
       "    </tr>\n",
       "  </tbody>\n",
       "</table>\n",
       "</div>"
      ],
      "text/plain": [
       "            events\n",
       "pitch_type        \n",
       "FF              52\n",
       "FT              17\n",
       "SL              14\n",
       "CH              10\n",
       "CU               6\n",
       "FC               4\n",
       "SI               4\n",
       "KC               2\n",
       "FS               1"
      ]
     },
     "execution_count": 15,
     "metadata": {},
     "output_type": "execute_result"
    }
   ],
   "source": [
    "pd.pivot_table(hr, index='pitch_type',values='events',aggfunc='count').sort_values('events',ascending = False)"
   ]
  },
  {
   "cell_type": "code",
   "execution_count": 17,
   "metadata": {},
   "outputs": [],
   "source": [
    "## four seam fastball, two seam fastball, cut fastball, sinker\n",
    "fastballs = ['FF','FT','FC','SI']"
   ]
  },
  {
   "cell_type": "code",
   "execution_count": 19,
   "metadata": {},
   "outputs": [],
   "source": [
    "df['is_fastball'] = df.pitch_type.apply(lambda x: 1 if x in fastballs else 0)"
   ]
  },
  {
   "cell_type": "code",
   "execution_count": 21,
   "metadata": {},
   "outputs": [],
   "source": [
    "hr = df.loc[df.events == 'home_run']"
   ]
  },
  {
   "cell_type": "code",
   "execution_count": 22,
   "metadata": {
    "scrolled": true
   },
   "outputs": [
    {
     "data": {
      "text/html": [
       "<div>\n",
       "<style scoped>\n",
       "    .dataframe tbody tr th:only-of-type {\n",
       "        vertical-align: middle;\n",
       "    }\n",
       "\n",
       "    .dataframe tbody tr th {\n",
       "        vertical-align: top;\n",
       "    }\n",
       "\n",
       "    .dataframe thead th {\n",
       "        text-align: right;\n",
       "    }\n",
       "</style>\n",
       "<table border=\"1\" class=\"dataframe\">\n",
       "  <thead>\n",
       "    <tr style=\"text-align: right;\">\n",
       "      <th></th>\n",
       "      <th>events</th>\n",
       "    </tr>\n",
       "    <tr>\n",
       "      <th>is_fastball</th>\n",
       "      <th></th>\n",
       "    </tr>\n",
       "  </thead>\n",
       "  <tbody>\n",
       "    <tr>\n",
       "      <th>1</th>\n",
       "      <td>77</td>\n",
       "    </tr>\n",
       "    <tr>\n",
       "      <th>0</th>\n",
       "      <td>33</td>\n",
       "    </tr>\n",
       "  </tbody>\n",
       "</table>\n",
       "</div>"
      ],
      "text/plain": [
       "             events\n",
       "is_fastball        \n",
       "1                77\n",
       "0                33"
      ]
     },
     "execution_count": 22,
     "metadata": {},
     "output_type": "execute_result"
    }
   ],
   "source": [
    "pd.pivot_table(hr, index='is_fastball',values='events',aggfunc='count').sort_values('events',ascending = False)"
   ]
  },
  {
   "cell_type": "code",
   "execution_count": 26,
   "metadata": {},
   "outputs": [
    {
     "data": {
      "text/plain": [
       "0.7"
      ]
     },
     "execution_count": 26,
     "metadata": {},
     "output_type": "execute_result"
    }
   ],
   "source": [
    "77/110"
   ]
  },
  {
   "cell_type": "markdown",
   "metadata": {},
   "source": [
    "### We have many more fastballs leaving the yard than offspeed, but let's double check his overall pitch mix to make sure there isn't a bias built in to the pitches he's being thrown."
   ]
  },
  {
   "cell_type": "code",
   "execution_count": 23,
   "metadata": {},
   "outputs": [
    {
     "data": {
      "text/plain": [
       "1    4176\n",
       "0    3268\n",
       "Name: is_fastball, dtype: int64"
      ]
     },
     "execution_count": 23,
     "metadata": {},
     "output_type": "execute_result"
    }
   ],
   "source": [
    "df.is_fastball.value_counts()"
   ]
  },
  {
   "cell_type": "code",
   "execution_count": 25,
   "metadata": {},
   "outputs": [
    {
     "data": {
      "text/plain": [
       "0.5609887157442235"
      ]
     },
     "execution_count": 25,
     "metadata": {},
     "output_type": "execute_result"
    }
   ],
   "source": [
    "4176/7444"
   ]
  },
  {
   "cell_type": "markdown",
   "metadata": {},
   "source": [
    "### he's thrown 56% fastballs overall, but 70% of his homeruns are on fastballs. So he's signifigantly better against fastballs than he is against offspeed."
   ]
  },
  {
   "cell_type": "markdown",
   "metadata": {},
   "source": [
    "#### For Later: compare Judge's HR rate on fastballs to the league average, the league average at RF, and the average for people with comporable ISO numbers."
   ]
  },
  {
   "cell_type": "code",
   "execution_count": null,
   "metadata": {},
   "outputs": [],
   "source": []
  }
 ],
 "metadata": {
  "kernelspec": {
   "display_name": "Python 3",
   "language": "python",
   "name": "python3"
  },
  "language_info": {
   "codemirror_mode": {
    "name": "ipython",
    "version": 3
   },
   "file_extension": ".py",
   "mimetype": "text/x-python",
   "name": "python",
   "nbconvert_exporter": "python",
   "pygments_lexer": "ipython3",
   "version": "3.8.1"
  }
 },
 "nbformat": 4,
 "nbformat_minor": 4
}
